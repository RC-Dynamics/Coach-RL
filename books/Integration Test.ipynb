{
 "cells": [
  {
   "cell_type": "code",
   "execution_count": null,
   "metadata": {},
   "outputs": [],
   "source": [
    "import socket\n",
    "import time\n",
    "import struct\n",
    "import random\n",
    "import argparse\n",
    "\n",
    "from fira_parser import *\n",
    "from Game import Stats, History\n",
    "\n",
    "fira = FiraParser('224.5.23.2')\n",
    "fira.start()\n",
    "\n",
    "serv = socket.socket(socket.AF_INET, socket.SOCK_DGRAM)\n",
    "serv.bind(('0.0.0.0', 8084)) #8084 Yellow team; 4097 Blue Team\n",
    "\n",
    "NUM_FORMACOES = 3 #number of valid options for (formations/players/behaviors/We need a better name for this....)\n",
    "END_GAME = 20 #seconds until next change\n",
    "START = (END_GAME + 1)*(-1) + time.time()"
   ]
  },
  {
   "cell_type": "markdown",
   "metadata": {},
   "source": [
    "# Fira -> Coach Test"
   ]
  },
  {
   "cell_type": "code",
   "execution_count": null,
   "metadata": {},
   "outputs": [],
   "source": [
    "data = fira.receive()\n",
    "\n",
    "default = False\n",
    "stats = Stats(data)\n",
    "history = History(10)\n",
    "\n",
    "\n",
    "try:\n",
    "    while True:\n",
    "        time.sleep(0.003)\n",
    "\n",
    "        #Recebendo dados do simulador...\n",
    "        data = fira.receive()\n",
    "        history.update(data)\n",
    "\n",
    "        print(f'\\r {data.frame.ball.x:.03f} {data.frame.ball.y:.03f}, {stats.get_param(history)}',\n",
    "              end='', flush=True)\n",
    "\n",
    "except Exception as e: \n",
    "    print(e)\n",
    "    serv.close()\n",
    "    fira.stop()\n"
   ]
  },
  {
   "cell_type": "markdown",
   "metadata": {},
   "source": [
    "# Coach -> VSS Test"
   ]
  },
  {
   "cell_type": "code",
   "execution_count": null,
   "metadata": {},
   "outputs": [],
   "source": [
    "aux = 2\n",
    "out_str = struct.pack('i',int(aux))\n",
    "serv.sendto(out_str, ('0.0.0.0', 4098))"
   ]
  },
  {
   "cell_type": "markdown",
   "metadata": {},
   "source": [
    "# Fira -> Coach -> VSS Test"
   ]
  },
  {
   "cell_type": "code",
   "execution_count": null,
   "metadata": {},
   "outputs": [],
   "source": [
    "data = fira.receive()\n",
    "\n",
    "default = False\n",
    "stats = Stats(data)\n",
    "history = History(10)\n",
    "idx = 0\n",
    "aux = 0\n",
    "try:\n",
    "    while True:\n",
    "        \n",
    "        time.sleep(0.003)\n",
    "\n",
    "        #Recebendo dados do simulador...\n",
    "        data = fira.receive()\n",
    "        history.update(data)\n",
    "        \n",
    "        if idx % 100==0:\n",
    "            aux = data.frame.ball.x > 0#(aux + 1)%2\n",
    "        \n",
    "            out_str = struct.pack('i',int(aux))\n",
    "            serv.sendto(out_str, ('0.0.0.0', 4098))\n",
    "            print(\"\\r Change Formation to:\", aux, end='', flush=True)\n",
    "            \n",
    "        idx = idx+1\n",
    "\n",
    "        #print(f'\\r {data.frame.ball.x:.03f} {data.frame.ball.y:.03f}, {stats.get_param(history)}', end='', flush=True)\n",
    "\n",
    "except Exception as e: \n",
    "    print(e)\n",
    "    serv.close()\n",
    "    fira.stop()\n"
   ]
  }
 ],
 "metadata": {
  "kernelspec": {
   "display_name": "dl",
   "language": "python",
   "name": "dl"
  },
  "language_info": {
   "codemirror_mode": {
    "name": "ipython",
    "version": 3
   },
   "file_extension": ".py",
   "mimetype": "text/x-python",
   "name": "python",
   "nbconvert_exporter": "python",
   "pygments_lexer": "ipython3",
   "version": "3.6.7"
  }
 },
 "nbformat": 4,
 "nbformat_minor": 2
}
